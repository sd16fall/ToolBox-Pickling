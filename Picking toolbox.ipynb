{
 "cells": [
  {
   "cell_type": "markdown",
   "metadata": {},
   "source": [
    "# Picking Toolbox by Prabha Dublish"
   ]
  },
  {
   "cell_type": "code",
   "execution_count": 4,
   "metadata": {
    "collapsed": false
   },
   "outputs": [
    {
     "name": "stdout",
     "output_type": "stream",
     "text": [
      "new value is None\n"
     ]
    },
    {
     "ename": "NameError",
     "evalue": "name 'filename' is not defined",
     "output_type": "error",
     "traceback": [
      "\u001b[0;31m---------------------------------------------------------------------------\u001b[0m",
      "\u001b[0;31mNameError\u001b[0m                                 Traceback (most recent call last)",
      "\u001b[0;32m<ipython-input-4-57d995b1b861>\u001b[0m in \u001b[0;36m<module>\u001b[0;34m()\u001b[0m\n\u001b[1;32m     39\u001b[0m                 \u001b[0;32mprint\u001b[0m \u001b[0;34m\"new value is \"\u001b[0m \u001b[0;34m+\u001b[0m \u001b[0mstr\u001b[0m\u001b[0;34m(\u001b[0m\u001b[0mupdate_counter\u001b[0m\u001b[0;34m(\u001b[0m\u001b[0msys\u001b[0m\u001b[0;34m.\u001b[0m\u001b[0margv\u001b[0m\u001b[0;34m[\u001b[0m\u001b[0;36m1\u001b[0m\u001b[0;34m]\u001b[0m\u001b[0;34m)\u001b[0m\u001b[0;34m)\u001b[0m\u001b[0;34m\u001b[0m\u001b[0m\n\u001b[1;32m     40\u001b[0m \u001b[0;34m\u001b[0m\u001b[0m\n\u001b[0;32m---> 41\u001b[0;31m \u001b[0;32mprint\u001b[0m \u001b[0mexists\u001b[0m\u001b[0;34m(\u001b[0m\u001b[0mfilename\u001b[0m\u001b[0;34m)\u001b[0m\u001b[0;34m\u001b[0m\u001b[0m\n\u001b[0m",
      "\u001b[0;31mNameError\u001b[0m: name 'filename' is not defined"
     ]
    }
   ],
   "source": [
    "\"\"\" A program that stores and updates a counter using a Python pickle file\"\"\"\n",
    "\n",
    "from os.path import exists\n",
    "import sys\n",
    "from pickle import dump, load\n",
    "\n",
    "def update_counter(file_name, reset=False):\n",
    "\t\"\"\" Updates a counter stored in the file 'file_name'\n",
    "\n",
    "\t\tA new counter will be created and initialized to 1 if none exists or if\n",
    "\t\tthe reset flag is True.\n",
    "    if exists(filename)=False or reset=True:\n",
    "        counter=1\n",
    "\n",
    "\t\tIf the counter already exists and reset is False, the counter's value will\n",
    "\t\tbe incremented.\n",
    "    if exists(filename)=True or reset=False\n",
    "        counter=counter+1\n",
    "\n",
    "\t\tfile_name: the file that stores the counter to be incremented.  If the file\n",
    "\t\t\t\t   doesn't exist, a counter is created and initialized to 1.\n",
    "\t\treset: True if the counter in the file should be rest.\n",
    "\t\treturns: the new counter value\n",
    "\n",
    "\t>>> update_counter('blah.txt',True)\n",
    "\t1\n",
    "\t>>> update_counter('blah.txt')\n",
    "\t2\n",
    "\t>>> update_counter('blah2.txt',True)\n",
    "\t1\n",
    "\t>>> update_counter('blah.txt')\n",
    "\t3\n",
    "\t>>> update_counter('blah2.txt')\n",
    "\t2\n",
    "\t\"\"\"\n",
    "\tpass\n",
    "\n",
    "if __name__ == '__main__':\n",
    "\tif len(sys.argv) < 2:\n",
    "\t\timport doctest\n",
    "\t\tdoctest.testmod()\n",
    "\telse:\n",
    "\t\tprint \"new value is \" + str(update_counter(sys.argv[1]))"
   ]
  },
  {
   "cell_type": "code",
   "execution_count": 11,
   "metadata": {
    "collapsed": false
   },
   "outputs": [
    {
     "name": "stdout",
     "output_type": "stream",
     "text": [
      "0\n"
     ]
    }
   ],
   "source": [
    "import os\n",
    "import pickle\n",
    "from os.path import exists\n",
    "import sys\n",
    "from pickle import dump, load\n",
    "\n",
    "def update_counter(filename, reset):\n",
    "    if os.path.exists(filename) is False or reset is True:\n",
    "        f=open(filename,'w')\n",
    "        f.seek(0,0)\n",
    "        counter=0\n",
    "        print counter\n",
    "        pickle.dump(counter,f)\n",
    "    elif os.path.exists(filename) is True or reset is False:\n",
    "        f=open(filename,'r+')\n",
    "        f.seek(0,0)\n",
    "        filecounter=pickle.load(f)\n",
    "        counter=filecounter+1\n",
    "        print counter\n",
    "        pickle.dump(counter,f)\n",
    "    f.close()\n",
    "update_counter('blah.txt',True)"
   ]
  },
  {
   "cell_type": "code",
   "execution_count": null,
   "metadata": {
    "collapsed": true
   },
   "outputs": [],
   "source": []
  }
 ],
 "metadata": {
  "kernelspec": {
   "display_name": "Python 2",
   "language": "python",
   "name": "python2"
  },
  "language_info": {
   "codemirror_mode": {
    "name": "ipython",
    "version": 2
   },
   "file_extension": ".py",
   "mimetype": "text/x-python",
   "name": "python",
   "nbconvert_exporter": "python",
   "pygments_lexer": "ipython2",
   "version": "2.7.12"
  }
 },
 "nbformat": 4,
 "nbformat_minor": 1
}
