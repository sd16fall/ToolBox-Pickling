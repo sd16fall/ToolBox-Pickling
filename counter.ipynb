{
 "cells": [
  {
   "cell_type": "code",
   "execution_count": 24,
   "metadata": {
    "collapsed": false
   },
   "outputs": [],
   "source": [
    "\"\"\" A program that stores and updates a counter using a Python pickle file\"\"\"\n",
    "\n",
    "from os.path import exists\n",
    "import sys\n",
    "from pickle import dump, load\n",
    "\n",
    "def update_counter(file_name, reset=False):\n",
    "    \"\"\" Updates a counter stored in the file 'file_name'\n",
    "\n",
    "        A new counter will be created and initialized to 1 if none exists or if\n",
    "        the reset flag is True.\n",
    "\n",
    "        If the counter already exists and reset is False, the counter's value will\n",
    "        be incremented.\n",
    "\n",
    "        file_name: the file that stores the counter to be incremented.  If the file\n",
    "                doesn't exist, a counter is created and initialized to 1.\n",
    "        reset: True if the counter in the file should be rest.\n",
    "        returns: the new counter value\n",
    "\n",
    "    >>> update_counter('blah.txt',True)\n",
    "    1\n",
    "    >>> update_counter('blah.txt')\n",
    "    2\n",
    "    >>> update_counter('blah2.txt',True)\n",
    "    1\n",
    "    >>> update_counter('blah.txt')\n",
    "    3\n",
    "    >>> update_counter('blah2.txt')\n",
    "    2\n",
    "    \"\"\"\n",
    "    if(not exists(file_name) or reset):\n",
    "            fout = open(file_name, 'w')\n",
    "            dump(1, fout)\n",
    "            fout.close()\n",
    "    else:\n",
    "            fin = open(file_name, 'rb')\n",
    "            x = load(fin)\n",
    "            fin.close()\n",
    "            fout = open(file_name, 'w')\n",
    "            dump(x+1, fout)\n",
    "            fout.close()\n",
    "    fin = open(file_name, 'rb')\n",
    "    x = load(fin)\n",
    "    fin.close()\n",
    "    return x"
   ]
  },
  {
   "cell_type": "code",
   "execution_count": 25,
   "metadata": {
    "collapsed": false
   },
   "outputs": [
    {
     "name": "stdout",
     "output_type": "stream",
     "text": [
      "new value is 4\n"
     ]
    }
   ],
   "source": [
    "if __name__ == '__main__':\n",
    "    if len(sys.argv) < 2:\n",
    "        import doctest\n",
    "        doctest.testmod()\n",
    "    else:\n",
    "        print \"new value is \" + str(update_counter(sys.argv[1]))"
   ]
  },
  {
   "cell_type": "code",
   "execution_count": null,
   "metadata": {
    "collapsed": true
   },
   "outputs": [],
   "source": []
  }
 ],
 "metadata": {
  "kernelspec": {
   "display_name": "Python 2",
   "language": "python",
   "name": "python2"
  },
  "language_info": {
   "codemirror_mode": {
    "name": "ipython",
    "version": 2
   },
   "file_extension": ".py",
   "mimetype": "text/x-python",
   "name": "python",
   "nbconvert_exporter": "python",
   "pygments_lexer": "ipython2",
   "version": "2.7.6"
  }
 },
 "nbformat": 4,
 "nbformat_minor": 1
}
